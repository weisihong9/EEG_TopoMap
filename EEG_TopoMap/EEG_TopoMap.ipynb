{
 "cells": [
  {
   "cell_type": "markdown",
   "id": "aed59652-eca2-439a-a8a4-b88f2a961e1a",
   "metadata": {},
   "source": [
    "## 目的：利用MNE实现自定义矩阵大脑拓扑图的绘制"
   ]
  },
  {
   "cell_type": "markdown",
   "id": "a1e07330-f2f9-4d7a-b360-db9e94c9f21d",
   "metadata": {},
   "source": [
    "### 0、加载python库"
   ]
  },
  {
   "cell_type": "code",
   "execution_count": 2,
   "id": "b46ecdb3-9ac0-460e-a7ff-7b2b0d4ed570",
   "metadata": {},
   "outputs": [
    {
     "name": "stdout",
     "output_type": "stream",
     "text": [
      "Using matplotlib backend: MacOSX\n"
     ]
    }
   ],
   "source": [
    "import numpy as np\n",
    "import matplotlib.pyplot as plt\n",
    "import pandas as pd\n",
    "import mne\n",
    "\n",
    "%matplotlib\n",
    "plt.show()"
   ]
  },
  {
   "cell_type": "markdown",
   "id": "c29a2413-ab6a-4748-80ac-7511c6d691ee",
   "metadata": {},
   "source": [
    "### 1、获取可用的电极布局系统"
   ]
  },
  {
   "cell_type": "code",
   "execution_count": 3,
   "id": "592bd1ac-024a-4678-b775-326b8162abba",
   "metadata": {},
   "outputs": [
    {
     "data": {
      "text/plain": [
       "['standard_1005',\n",
       " 'standard_1020',\n",
       " 'standard_alphabetic',\n",
       " 'standard_postfixed',\n",
       " 'standard_prefixed',\n",
       " 'standard_primed',\n",
       " 'biosemi16',\n",
       " 'biosemi32',\n",
       " 'biosemi64',\n",
       " 'biosemi128',\n",
       " 'biosemi160',\n",
       " 'biosemi256',\n",
       " 'easycap-M1',\n",
       " 'easycap-M10',\n",
       " 'EGI_256',\n",
       " 'GSN-HydroCel-32',\n",
       " 'GSN-HydroCel-64_1.0',\n",
       " 'GSN-HydroCel-65_1.0',\n",
       " 'GSN-HydroCel-128',\n",
       " 'GSN-HydroCel-129',\n",
       " 'GSN-HydroCel-256',\n",
       " 'GSN-HydroCel-257',\n",
       " 'mgh60',\n",
       " 'mgh70',\n",
       " 'artinis-octamon',\n",
       " 'artinis-brite23',\n",
       " 'brainproducts-RNP-BA-128']"
      ]
     },
     "execution_count": 3,
     "metadata": {},
     "output_type": "execute_result"
    }
   ],
   "source": [
    "mne.channels.get_builtin_montages()"
   ]
  },
  {
   "cell_type": "markdown",
   "id": "9c1bbe67-f0a7-4d80-ae52-3eb3ae7b4cc2",
   "metadata": {},
   "source": [
    "### 2、利用MNE自带的电极布局系统对矩阵进行通道定位"
   ]
  },
  {
   "cell_type": "markdown",
   "id": "64261449-0716-4c4d-ae06-b2e20f1cf178",
   "metadata": {},
   "source": [
    "#### 2.1 加载脑地形图位置坐标并可视化"
   ]
  },
  {
   "cell_type": "code",
   "execution_count": 4,
   "id": "c88c2c95-a931-4698-b31f-19511f782bbf",
   "metadata": {},
   "outputs": [],
   "source": [
    "int32_montage = mne.channels.make_standard_montage('biosemi32')\n",
    "int32_montage.plot()\n",
    "plt.show()"
   ]
  },
  {
   "cell_type": "markdown",
   "id": "98578a77-08d7-4faf-b422-0a0656c41d48",
   "metadata": {},
   "source": [
    "#### 2.2 构建自定义32导联的矩阵"
   ]
  },
  {
   "cell_type": "code",
   "execution_count": 5,
   "id": "2718c5dd-c973-4b11-92f3-fe0b96743595",
   "metadata": {},
   "outputs": [],
   "source": [
    "weight = {'Fp1': 0.31, 'AF3': -0.26, 'F7': 1.22, 'F3': 0.99, 'Fz': 0.71, 'FC5': 0.55,\n",
    "          'FC1': -1.19, 'T7': 0.61, 'C3': -0.80, 'Cz': 2.36, 'CP5': -0.74, 'CP1': 0.72,\n",
    "          'P7': 0.93, 'P3': 0.38, 'Pz': 1.07, 'PO3': -1.46, 'O1': -0.12, 'Oz': 1.074,\n",
    "          'Fp2': 1.04, 'AF4': -0.065, 'F4': -0.52, 'F8': 0.37, 'FC2': 1.30, 'FC6': 0.94,\n",
    "          'C4': -1.11, 'T8': -0.16, 'CP2': 1.82, 'CP6': 0.41, 'P4': 0.46, 'P8': 0.99, 'PO4':0.15, 'O2':0.23}"
   ]
  },
  {
   "cell_type": "markdown",
   "id": "b7b21552-dd8f-4fdd-9039-281d50006467",
   "metadata": {},
   "source": [
    "#### 2.3 根据脑地形图导联顺序重构自定义矩阵（*注意）"
   ]
  },
  {
   "cell_type": "code",
   "execution_count": 6,
   "id": "1b5f212e-b252-43a8-8755-7d67f34d8de8",
   "metadata": {},
   "outputs": [
    {
     "name": "stdout",
     "output_type": "stream",
     "text": [
      "脑地形图矩阵导联顺序: ['Fp1' 'AF3' 'F7' 'F3' 'FC1' 'FC5' 'T7' 'C3' 'CP1' 'CP5' 'P7' 'P3' 'Pz'\n",
      " 'PO3' 'O1' 'Oz' 'O2' 'PO4' 'P4' 'P8' 'CP6' 'CP2' 'C4' 'T8' 'FC6' 'FC2'\n",
      " 'F4' 'F8' 'AF4' 'Fp2' 'Fz' 'Cz']\n"
     ]
    }
   ],
   "source": [
    "# 查看脑地形图矩阵导联位置\n",
    "sensor_data_32 = int32_montage.get_positions()['ch_pos']\n",
    "sensor_dataframe_32 = pd.DataFrame(sensor_data_32).T\n",
    "chLa_index = sensor_dataframe_32.index.values\n",
    "print('脑地形图矩阵导联顺序:',chLa_index)\n",
    "\n",
    "# 重构自定义矩阵顺序\n",
    "reWeight = []\n",
    "for key in chLa_index:\n",
    "    val = weight[key]\n",
    "    reWeight.append(val)"
   ]
  },
  {
   "cell_type": "markdown",
   "id": "0cddd396-f589-4538-8fff-1b928fa02e7c",
   "metadata": {},
   "source": [
    "### 3、TopoMap可视化"
   ]
  },
  {
   "cell_type": "markdown",
   "id": "22704ca0-b8e9-4209-bb0e-dcf0bb4bfe7f",
   "metadata": {},
   "source": [
    "#### 3.1 创建info"
   ]
  },
  {
   "cell_type": "code",
   "execution_count": 7,
   "id": "bd29cd65-f74f-4fa0-968d-aa0721efaab1",
   "metadata": {},
   "outputs": [
    {
     "data": {
      "text/html": [
       "<table class=\"table table-hover table-striped table-sm table-responsive small\">\n",
       "    <tr>\n",
       "        <th>Measurement date</th>\n",
       "        \n",
       "        <td>Unknown</td>\n",
       "        \n",
       "    </tr>\n",
       "    <tr>\n",
       "        <th>Experimenter</th>\n",
       "        \n",
       "        <td>Unknown</td>\n",
       "        \n",
       "    </tr>\n",
       "        <th>Participant</th>\n",
       "        \n",
       "        <td>Unknown</td>\n",
       "        \n",
       "    </tr>\n",
       "    <tr>\n",
       "        <th>Digitized points</th>\n",
       "        \n",
       "        <td>35 points</td>\n",
       "        \n",
       "    </tr>\n",
       "    <tr>\n",
       "        <th>Good channels</th>\n",
       "        <td>32 EEG</td>\n",
       "    </tr>\n",
       "    <tr>\n",
       "        <th>Bad channels</th>\n",
       "        <td>None</td>\n",
       "    </tr>\n",
       "    <tr>\n",
       "        <th>EOG channels</th>\n",
       "        <td>Not available</td>\n",
       "    </tr>\n",
       "    <tr>\n",
       "        <th>ECG channels</th>\n",
       "        <td>Not available</td>\n",
       "    \n",
       "    <tr>\n",
       "        <th>Sampling frequency</th>\n",
       "        <td>1000.00 Hz</td>\n",
       "    </tr>\n",
       "    \n",
       "    \n",
       "    <tr>\n",
       "        <th>Highpass</th>\n",
       "        <td>0.00 Hz</td>\n",
       "    </tr>\n",
       "    \n",
       "    \n",
       "    <tr>\n",
       "        <th>Lowpass</th>\n",
       "        <td>500.00 Hz</td>\n",
       "    </tr>\n",
       "    \n",
       "    \n",
       "</table>"
      ],
      "text/plain": [
       "<Info | 8 non-empty values\n",
       " bads: []\n",
       " ch_names: Fp1, AF3, F7, F3, FC1, FC5, T7, C3, CP1, CP5, P7, P3, Pz, PO3, ...\n",
       " chs: 32 EEG\n",
       " custom_ref_applied: False\n",
       " dig: 35 items (3 Cardinal, 32 EEG)\n",
       " highpass: 0.0 Hz\n",
       " lowpass: 500.0 Hz\n",
       " meas_date: unspecified\n",
       " nchan: 32\n",
       " projs: []\n",
       " sfreq: 1000.0 Hz\n",
       ">"
      ]
     },
     "execution_count": 7,
     "metadata": {},
     "output_type": "execute_result"
    }
   ],
   "source": [
    "info = mne.create_info(\n",
    "        ch_names = chLa_index.tolist(),\n",
    "        ch_types = ['eeg']*32,   # 通道个数\n",
    "        sfreq = 1000)            # 采样频率\n",
    "info.set_montage(int32_montage)"
   ]
  },
  {
   "cell_type": "markdown",
   "id": "0d3cf7d5-ed2f-4079-a936-181c78e8d2db",
   "metadata": {},
   "source": [
    "#### 3.2 可视化"
   ]
  },
  {
   "cell_type": "code",
   "execution_count": 8,
   "id": "9df83020-8911-420e-b251-e2056f3fb753",
   "metadata": {},
   "outputs": [],
   "source": [
    "im, cn = mne.viz.plot_topomap(reWeight, \n",
    "                              info, \n",
    "                              names = chLa_index.tolist(),\n",
    "                              # vlim=(-2, 2)\n",
    "                             )\n",
    "plt.colorbar(im)\n",
    "plt.show()"
   ]
  },
  {
   "cell_type": "markdown",
   "id": "3a029db9-8635-440f-9cb1-6194841fc159",
   "metadata": {},
   "source": [
    "### 4、自定义电极布局系统对矩阵进行通道定位\n",
    "假设我有一个64导联的帽子，根据实验需求，实验过程中我只选择中央区和顶叶区域的电极。  \n",
    "\n",
    "那么我们该如何根据自己选择的导联制定通道定位模版呢？"
   ]
  },
  {
   "cell_type": "markdown",
   "id": "af9186c3-62d0-4df4-abd1-b7cbdcc5b1fa",
   "metadata": {},
   "source": [
    "#### 4.1 下载标准的64通道电极布局系统坐标"
   ]
  },
  {
   "cell_type": "code",
   "execution_count": 9,
   "id": "f899fe8a-c672-4415-9321-056314746ded",
   "metadata": {},
   "outputs": [],
   "source": [
    "# 读取MNE中biosemi64电极位置信息\n",
    "biosemi_montage = mne.channels.make_standard_montage('biosemi64')\n",
    "sensor_data_64 = biosemi_montage.get_positions()['ch_pos']\n",
    "sensor_dataframe_64 = pd.DataFrame(sensor_data_64).T\n",
    "sensor_dataframe_64.to_excel('sensor_dataframe_64.xlsx')"
   ]
  },
  {
   "cell_type": "markdown",
   "id": "7a067378-b7ee-4b39-8651-41d9f92e4cfe",
   "metadata": {},
   "source": [
    "#### 4.2 根据下载文件，选择实验选取的电极坐标，保存为excel格式"
   ]
  },
  {
   "cell_type": "code",
   "execution_count": 10,
   "id": "c533e9ce-3462-49bb-81ea-84e50522b2d1",
   "metadata": {},
   "outputs": [],
   "source": [
    "# 模仿下载的电极布局excel，自定义电极布局文件"
   ]
  },
  {
   "cell_type": "markdown",
   "id": "059f3373-3c78-459e-ab6f-41e45a85430c",
   "metadata": {},
   "source": [
    "#### 4.3 加载自定义的excel文件，制作自己的montage"
   ]
  },
  {
   "cell_type": "code",
   "execution_count": 11,
   "id": "a5153b64-3de2-4141-b908-bb448846c725",
   "metadata": {},
   "outputs": [
    {
     "name": "stderr",
     "output_type": "stream",
     "text": [
      "/var/folders/fj/lgd84tbn0vlg7xj60s05pkph0000gn/T/ipykernel_4947/2900886980.py:6: RuntimeWarning: Fiducial point nasion not found, assuming identity unknown to head transformation\n",
      "  myMontage.plot()\n"
     ]
    }
   ],
   "source": [
    "myStardart = pd.read_excel('mySensor_dataframe.xlsx', index_col=0) # 读取自己的电极定位文件\n",
    "ch_names = np.array(myStardart.index)                              # 电极名称\n",
    "position = np.array(myStardart)                                    # 电极坐标位置\n",
    "sensorPosition = dict(zip(ch_names, position))                     # 制定为字典的形式\n",
    "myMontage = mne.channels.make_dig_montage(ch_pos=sensorPosition)\n",
    "myMontage.plot()\n",
    "plt.show()"
   ]
  },
  {
   "cell_type": "markdown",
   "id": "72803ca8-1b7c-4227-b5c2-3a1628c1ee1b",
   "metadata": {},
   "source": [
    "#### 4.4 自定义导联权重矩阵"
   ]
  },
  {
   "cell_type": "code",
   "execution_count": 12,
   "id": "b5a755b8-b14e-48df-bbb9-5f3259690008",
   "metadata": {},
   "outputs": [],
   "source": [
    "myWeight = {'C1': 0.31, 'C3': 1.22, 'P6': 0.71, 'P4': 0.55,'P2': -1.19, 'CP5': 0.61,\n",
    "            'CP3': -0.80, 'CP1': 2.36, 'P1': -0.74, 'P3': 0.72,'P5': 0.93, 'Pz': -1.46, \n",
    "            'CPz': -0.12, 'Cz': 1.074,'C5':2.34,'C2': 1.04, 'C4': -0.065, 'C6': -0.52, \n",
    "            'CP2': 0.37, 'CP4': 1.30, 'CP6': 0.94}"
   ]
  },
  {
   "cell_type": "markdown",
   "id": "aecba42c-5d1e-4481-b1a5-e78e8c5529be",
   "metadata": {},
   "source": [
    "#### 4.5 根据脑地形图导联顺序重构自定义矩阵（*注意）"
   ]
  },
  {
   "cell_type": "code",
   "execution_count": 13,
   "id": "42025e3d-6094-4ae9-8f3d-37f8e770955d",
   "metadata": {},
   "outputs": [
    {
     "name": "stdout",
     "output_type": "stream",
     "text": [
      "脑地形图矩阵导联顺序: ['C1', 'C3', 'C5', 'CP5', 'CP3', 'CP1', 'P1', 'P3', 'P5', 'Pz', 'CPz', 'Cz', 'C2', 'C4', 'C6', 'CP6', 'CP4', 'CP2', 'P2', 'P4', 'P6']\n"
     ]
    }
   ],
   "source": [
    "# 查看脑地形图矩阵导联位置\n",
    "my_chLa_index = ch_names.tolist()\n",
    "print('脑地形图矩阵导联顺序:',my_chLa_index)\n",
    "\n",
    "# 重构自定义矩阵顺序\n",
    "reMyWeight = []\n",
    "for key in my_chLa_index:\n",
    "    val = myWeight[key]\n",
    "    reMyWeight.append(val)"
   ]
  },
  {
   "cell_type": "markdown",
   "id": "941abe35-ce0e-498a-a7ef-df38ee4e9e5e",
   "metadata": {},
   "source": [
    "### 5、TopoMap可视化"
   ]
  },
  {
   "cell_type": "markdown",
   "id": "903017f1-36f7-42fe-a4f5-e6d5c5c9b6ab",
   "metadata": {},
   "source": [
    "#### 5.1 创建info"
   ]
  },
  {
   "cell_type": "code",
   "execution_count": 14,
   "id": "5f2c51aa-d529-4b95-9071-fb2c5b863e8b",
   "metadata": {},
   "outputs": [
    {
     "name": "stderr",
     "output_type": "stream",
     "text": [
      "/var/folders/fj/lgd84tbn0vlg7xj60s05pkph0000gn/T/ipykernel_4947/778578395.py:5: RuntimeWarning: Fiducial point nasion not found, assuming identity unknown to head transformation\n",
      "  myinfo.set_montage(myMontage)\n"
     ]
    },
    {
     "data": {
      "text/html": [
       "<table class=\"table table-hover table-striped table-sm table-responsive small\">\n",
       "    <tr>\n",
       "        <th>Measurement date</th>\n",
       "        \n",
       "        <td>Unknown</td>\n",
       "        \n",
       "    </tr>\n",
       "    <tr>\n",
       "        <th>Experimenter</th>\n",
       "        \n",
       "        <td>Unknown</td>\n",
       "        \n",
       "    </tr>\n",
       "        <th>Participant</th>\n",
       "        \n",
       "        <td>Unknown</td>\n",
       "        \n",
       "    </tr>\n",
       "    <tr>\n",
       "        <th>Digitized points</th>\n",
       "        \n",
       "        <td>24 points</td>\n",
       "        \n",
       "    </tr>\n",
       "    <tr>\n",
       "        <th>Good channels</th>\n",
       "        <td>21 EEG</td>\n",
       "    </tr>\n",
       "    <tr>\n",
       "        <th>Bad channels</th>\n",
       "        <td>None</td>\n",
       "    </tr>\n",
       "    <tr>\n",
       "        <th>EOG channels</th>\n",
       "        <td>Not available</td>\n",
       "    </tr>\n",
       "    <tr>\n",
       "        <th>ECG channels</th>\n",
       "        <td>Not available</td>\n",
       "    \n",
       "    <tr>\n",
       "        <th>Sampling frequency</th>\n",
       "        <td>1000.00 Hz</td>\n",
       "    </tr>\n",
       "    \n",
       "    \n",
       "    <tr>\n",
       "        <th>Highpass</th>\n",
       "        <td>0.00 Hz</td>\n",
       "    </tr>\n",
       "    \n",
       "    \n",
       "    <tr>\n",
       "        <th>Lowpass</th>\n",
       "        <td>500.00 Hz</td>\n",
       "    </tr>\n",
       "    \n",
       "    \n",
       "</table>"
      ],
      "text/plain": [
       "<Info | 8 non-empty values\n",
       " bads: []\n",
       " ch_names: C1, C3, C5, CP5, CP3, CP1, P1, P3, P5, Pz, CPz, Cz, C2, C4, C6, ...\n",
       " chs: 21 EEG\n",
       " custom_ref_applied: False\n",
       " dig: 24 items (3 Cardinal, 21 EEG)\n",
       " highpass: 0.0 Hz\n",
       " lowpass: 500.0 Hz\n",
       " meas_date: unspecified\n",
       " nchan: 21\n",
       " projs: []\n",
       " sfreq: 1000.0 Hz\n",
       ">"
      ]
     },
     "execution_count": 14,
     "metadata": {},
     "output_type": "execute_result"
    }
   ],
   "source": [
    "myinfo = mne.create_info(\n",
    "        ch_names = my_chLa_index,\n",
    "        ch_types = ['eeg']*21,   # 通道个数\n",
    "        sfreq = 1000)            # 采样频率\n",
    "myinfo.set_montage(myMontage)"
   ]
  },
  {
   "cell_type": "markdown",
   "id": "faab2d6f-bed1-4664-a749-81ab41beec2b",
   "metadata": {},
   "source": [
    "#### 5.2 可视化"
   ]
  },
  {
   "cell_type": "code",
   "execution_count": 15,
   "id": "353e5c00-2cd5-443f-ab31-71be978cd172",
   "metadata": {},
   "outputs": [],
   "source": [
    "im, cn = mne.viz.plot_topomap(reMyWeight, \n",
    "                              myinfo, \n",
    "                              names = my_chLa_index,\n",
    "                              # vlim=(-2, 2)\n",
    "                             )\n",
    "plt.colorbar(im)\n",
    "plt.title('My Montage')\n",
    "plt.show()"
   ]
  },
  {
   "cell_type": "code",
   "execution_count": null,
   "id": "33d7fbf8-954a-4ace-ad1c-16ab88ad3ec5",
   "metadata": {},
   "outputs": [],
   "source": []
  }
 ],
 "metadata": {
  "kernelspec": {
   "display_name": "Python 3 (ipykernel)",
   "language": "python",
   "name": "python3"
  },
  "language_info": {
   "codemirror_mode": {
    "name": "ipython",
    "version": 3
   },
   "file_extension": ".py",
   "mimetype": "text/x-python",
   "name": "python",
   "nbconvert_exporter": "python",
   "pygments_lexer": "ipython3",
   "version": "3.9.12"
  }
 },
 "nbformat": 4,
 "nbformat_minor": 5
}
